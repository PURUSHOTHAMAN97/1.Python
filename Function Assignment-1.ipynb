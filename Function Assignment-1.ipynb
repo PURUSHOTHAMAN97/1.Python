{
 "cells": [
  {
   "cell_type": "code",
   "execution_count": 1,
   "metadata": {},
   "outputs": [
    {
     "name": "stdout",
     "output_type": "stream",
     "text": [
      "Sub-fields in AI are:\n",
      "Machine Learning\n",
      "Neural Network\n",
      "Vision\n",
      "Robotics\n",
      "Speech Processing\n",
      "Natural Language Processing\n"
     ]
    }
   ],
   "source": [
    "def Subfields():\n",
    "    \n",
    "    list=(\"Machine Learning\",\"Neural Network\",\"Vision\",\"Robotics\",\"Speech Processing\",\"Natural Language Processing\")\n",
    "    print(\"Sub-fields in AI are:\")\n",
    "    for temp in list:\n",
    "            print(temp)\n",
    "Subfields()\n"
   ]
  },
  {
   "cell_type": "code",
   "execution_count": 2,
   "metadata": {},
   "outputs": [
    {
     "name": "stdout",
     "output_type": "stream",
     "text": [
      "Enter a number:52452\n",
      "52452 is even number\n"
     ]
    }
   ],
   "source": [
    "def oddEven():\n",
    " num = int(input(\"Enter a number:\"))\n",
    " if((num%2)==1):\n",
    "    print(num,\"is odd number\")\n",
    " else:\n",
    "    print(num,\"is even number\")\n",
    "oddEven()"
   ]
  },
  {
   "cell_type": "code",
   "execution_count": 3,
   "metadata": {},
   "outputs": [
    {
     "name": "stdout",
     "output_type": "stream",
     "text": [
      "Your Gender:Male\n",
      "Your Age:20\n",
      "NOT ELIGIBLE\n"
     ]
    }
   ],
   "source": [
    "def Eligible():\n",
    "    Gender=input(\"Your Gender:\")\n",
    "    Age=int(input(\"Your Age:\"))\n",
    "    if(Gender==\"Male\" and Age >= 21):\n",
    "        print(\"Eligible\")\n",
    "    elif(Gender==\"Female\" and Age >= 18):\n",
    "        print(\"ELIGIBLE\")\n",
    "    else:\n",
    "        print(\"NOT ELIGIBLE\")\n",
    "Eligible()"
   ]
  },
  {
   "cell_type": "code",
   "execution_count": 5,
   "metadata": {},
   "outputs": [
    {
     "name": "stdout",
     "output_type": "stream",
     "text": [
      "Subject1:98\n",
      "Subject2:87\n",
      "Subject3:95\n",
      "Subject4:95\n",
      "Subject5:93\n",
      "Total: 468\n",
      "Percentage: 93.60000000000001\n"
     ]
    }
   ],
   "source": [
    "def percentage():\n",
    "    Subject1=int(input(\"Subject1:\"))\n",
    "    Subject2=int(input(\"Subject2:\"))\n",
    "    Subject3=int(input(\"Subject3:\"))\n",
    "    Subject4=int(input(\"Subject4:\"))\n",
    "    Subject5=int(input(\"Subject5:\"))\n",
    "    Total=Subject1+Subject2+Subject3+Subject4+Subject5\n",
    "    print(\"Total:\",Total)\n",
    "    percentage=(Total/500)*100\n",
    "    print(\"Percentage:\",percentage)\n",
    "percentage()"
   ]
  },
  {
   "cell_type": "code",
   "execution_count": 3,
   "metadata": {},
   "outputs": [
    {
     "name": "stdout",
     "output_type": "stream",
     "text": [
      "Height:32\n",
      "Breadth:34\n",
      "Area formula:(Height*Breadth)/2\n",
      "Area of Triangle: 544.0\n",
      "Height1:2\n",
      "Height2:4\n",
      "Breadth:4\n",
      "Perimeter formula:Height1+Height2+Breadth\n",
      "Perimeter of Triangle: 10\n"
     ]
    }
   ],
   "source": [
    "def triangle():\n",
    "    Height=int(input(\"Height:\"))\n",
    "    Breadth=int(input(\"Breadth:\"))\n",
    "    Area=(Height*Breadth)/2\n",
    "    print(\"Area formula:(Height*Breadth)/2\")\n",
    "    print(\"Area of Triangle:\",Area)\n",
    "    Height1=int(input(\"Height1:\"))\n",
    "    Height2=int(input(\"Height2:\"))\n",
    "    Breadth1=int(input(\"Breadth:\"))\n",
    "    Perimeter=Height1+Height2+Breadth1\n",
    "    print(\"Perimeter formula:Height1+Height2+Breadth\")\n",
    "    print(\"Perimeter of Triangle:\",Perimeter)\n",
    "triangle()\n"
   ]
  },
  {
   "cell_type": "code",
   "execution_count": null,
   "metadata": {},
   "outputs": [],
   "source": []
  },
  {
   "cell_type": "code",
   "execution_count": null,
   "metadata": {},
   "outputs": [],
   "source": []
  },
  {
   "cell_type": "code",
   "execution_count": null,
   "metadata": {},
   "outputs": [],
   "source": []
  }
 ],
 "metadata": {
  "kernelspec": {
   "display_name": "Python 3",
   "language": "python",
   "name": "python3"
  },
  "language_info": {
   "codemirror_mode": {
    "name": "ipython",
    "version": 3
   },
   "file_extension": ".py",
   "mimetype": "text/x-python",
   "name": "python",
   "nbconvert_exporter": "python",
   "pygments_lexer": "ipython3",
   "version": "3.7.4"
  }
 },
 "nbformat": 4,
 "nbformat_minor": 2
}
